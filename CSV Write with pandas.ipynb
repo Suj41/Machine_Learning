{
 "cells": [
  {
   "cell_type": "markdown",
   "id": "b44431ad",
   "metadata": {},
   "source": [
    "# Writing CSV file"
   ]
  },
  {
   "cell_type": "code",
   "execution_count": 2,
   "id": "b9612ffb",
   "metadata": {},
   "outputs": [
    {
     "data": {
      "text/html": [
       "<div>\n",
       "<style scoped>\n",
       "    .dataframe tbody tr th:only-of-type {\n",
       "        vertical-align: middle;\n",
       "    }\n",
       "\n",
       "    .dataframe tbody tr th {\n",
       "        vertical-align: top;\n",
       "    }\n",
       "\n",
       "    .dataframe thead th {\n",
       "        text-align: right;\n",
       "    }\n",
       "</style>\n",
       "<table border=\"1\" class=\"dataframe\">\n",
       "  <thead>\n",
       "    <tr style=\"text-align: right;\">\n",
       "      <th></th>\n",
       "      <th>a</th>\n",
       "      <th>b</th>\n",
       "      <th>c</th>\n",
       "    </tr>\n",
       "  </thead>\n",
       "  <tbody>\n",
       "    <tr>\n",
       "      <th>0</th>\n",
       "      <td>1</td>\n",
       "      <td>1</td>\n",
       "      <td>1</td>\n",
       "    </tr>\n",
       "    <tr>\n",
       "      <th>1</th>\n",
       "      <td>2</td>\n",
       "      <td>2</td>\n",
       "      <td>2</td>\n",
       "    </tr>\n",
       "    <tr>\n",
       "      <th>2</th>\n",
       "      <td>3</td>\n",
       "      <td>3</td>\n",
       "      <td>3</td>\n",
       "    </tr>\n",
       "    <tr>\n",
       "      <th>3</th>\n",
       "      <td>4</td>\n",
       "      <td>4</td>\n",
       "      <td>4</td>\n",
       "    </tr>\n",
       "  </tbody>\n",
       "</table>\n",
       "</div>"
      ],
      "text/plain": [
       "   a  b  c\n",
       "0  1  1  1\n",
       "1  2  2  2\n",
       "2  3  3  3\n",
       "3  4  4  4"
      ]
     },
     "execution_count": 2,
     "metadata": {},
     "output_type": "execute_result"
    }
   ],
   "source": [
    "import pandas as pd\n",
    "dict = {'a':[1,2,3,4],'b':[1,2,3,4],'c':[1,2,3,4]}\n",
    "file=pd.DataFrame(dict)\n",
    "file"
   ]
  },
  {
   "cell_type": "markdown",
   "id": "fcd52cff",
   "metadata": {},
   "source": [
    "# creating a csv file using pandas"
   ]
  },
  {
   "cell_type": "code",
   "execution_count": 3,
   "id": "6521686b",
   "metadata": {},
   "outputs": [],
   "source": [
    "file.to_csv('new.csv')"
   ]
  },
  {
   "cell_type": "markdown",
   "id": "a053004e",
   "metadata": {},
   "source": [
    "# to remove the index in csv file"
   ]
  },
  {
   "cell_type": "code",
   "execution_count": 8,
   "id": "db9d6181",
   "metadata": {},
   "outputs": [],
   "source": [
    "file.to_csv('newCSV.csv', header=['Python','Java','JavaScript'])"
   ]
  },
  {
   "cell_type": "markdown",
   "id": "65ae7ca1",
   "metadata": {},
   "source": [
    "# to remove index"
   ]
  },
  {
   "cell_type": "code",
   "execution_count": 11,
   "id": "742dcdb6",
   "metadata": {},
   "outputs": [],
   "source": [
    "file.to_csv('PracticeCSV1.csv', index=\"false\")"
   ]
  },
  {
   "cell_type": "code",
   "execution_count": null,
   "id": "718fc915",
   "metadata": {},
   "outputs": [],
   "source": []
  }
 ],
 "metadata": {
  "kernelspec": {
   "display_name": "Python 3 (ipykernel)",
   "language": "python",
   "name": "python3"
  },
  "language_info": {
   "codemirror_mode": {
    "name": "ipython",
    "version": 3
   },
   "file_extension": ".py",
   "mimetype": "text/x-python",
   "name": "python",
   "nbconvert_exporter": "python",
   "pygments_lexer": "ipython3",
   "version": "3.10.9"
  }
 },
 "nbformat": 4,
 "nbformat_minor": 5
}
