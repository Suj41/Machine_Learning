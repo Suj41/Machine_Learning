{
 "cells": [
  {
   "cell_type": "markdown",
   "id": "c0945c3c",
   "metadata": {},
   "source": [
    "# Simple Syntax to use Series"
   ]
  },
  {
   "cell_type": "code",
   "execution_count": 5,
   "id": "4c20a1e1",
   "metadata": {},
   "outputs": [
    {
     "data": {
      "text/plain": [
       "0    1\n",
       "1    2\n",
       "2    3\n",
       "3    4\n",
       "4    5\n",
       "5    6\n",
       "6    7\n",
       "7    8\n",
       "dtype: int64"
      ]
     },
     "execution_count": 5,
     "metadata": {},
     "output_type": "execute_result"
    }
   ],
   "source": [
    "import pandas as pd\n",
    "x=[1,2,3,4,5,6,7,8]\n",
    "var = pd.Series(x)\n",
    "var\n"
   ]
  },
  {
   "cell_type": "markdown",
   "id": "79c347df",
   "metadata": {},
   "source": [
    "# To change the index from default numbering, data type and add name"
   ]
  },
  {
   "cell_type": "code",
   "execution_count": 6,
   "id": "3defa4b3",
   "metadata": {},
   "outputs": [
    {
     "data": {
      "text/plain": [
       "a    1.0\n",
       "b    2.0\n",
       "c    3.0\n",
       "d    4.0\n",
       "e    5.0\n",
       "f    6.0\n",
       "g    7.0\n",
       "h    8.0\n",
       "Name: python, dtype: float64"
      ]
     },
     "execution_count": 6,
     "metadata": {},
     "output_type": "execute_result"
    }
   ],
   "source": [
    "var = pd.Series(x, index=['a', 'b', 'c', 'd', 'e', 'f', 'g', 'h'], dtype=\"float\", name=\"python\")\n",
    "var"
   ]
  },
  {
   "cell_type": "markdown",
   "id": "f1ff05ae",
   "metadata": {},
   "source": [
    "# Using dictionary in series data structure\n"
   ]
  },
  {
   "cell_type": "code",
   "execution_count": 7,
   "id": "1c2a5cce",
   "metadata": {},
   "outputs": [
    {
     "data": {
      "text/plain": [
       "movie     [Oppenhiemer, Barbie]\n",
       "rating                 [9, 7.8]\n",
       "Name: dictionary use, dtype: object"
      ]
     },
     "execution_count": 7,
     "metadata": {},
     "output_type": "execute_result"
    }
   ],
   "source": [
    "dict ={\"movie\":[\"Oppenhiemer\",\"Barbie\"], \"rating\":[9,7.8]}\n",
    "var1= pd.Series(dict, name=\"dictionary use\")\n",
    "var1"
   ]
  },
  {
   "cell_type": "markdown",
   "id": "00b039fa",
   "metadata": {},
   "source": [
    "# Create series of same data"
   ]
  },
  {
   "cell_type": "code",
   "execution_count": null,
   "id": "c5d0fae4",
   "metadata": {},
   "outputs": [],
   "source": []
  }
 ],
 "metadata": {
  "kernelspec": {
   "display_name": "Python 3 (ipykernel)",
   "language": "python",
   "name": "python3"
  },
  "language_info": {
   "codemirror_mode": {
    "name": "ipython",
    "version": 3
   },
   "file_extension": ".py",
   "mimetype": "text/x-python",
   "name": "python",
   "nbconvert_exporter": "python",
   "pygments_lexer": "ipython3",
   "version": "3.11.0"
  }
 },
 "nbformat": 4,
 "nbformat_minor": 5
}
